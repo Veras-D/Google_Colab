{
  "nbformat": 4,
  "nbformat_minor": 0,
  "metadata": {
    "colab": {
      "provenance": [],
      "authorship_tag": "ABX9TyMER4rkyewsjr2qqk4aQ07E"
    },
    "kernelspec": {
      "name": "python3",
      "display_name": "Python 3"
    },
    "language_info": {
      "name": "python"
    }
  },
  "cells": [
    {
      "cell_type": "code",
      "execution_count": null,
      "metadata": {
        "id": "qpLvEBRFKK-O",
        "colab": {
          "base_uri": "https://localhost:8080/"
        },
        "outputId": "914ff41f-ad17-43b7-a120-1d5ef8f7eaf2"
      },
      "outputs": [
        {
          "output_type": "stream",
          "name": "stdout",
          "text": [
            "d2 = 8.0\n"
          ]
        }
      ],
      "source": [
        "# Resolução de proporções\n",
        "n1 = 1\n",
        "d1 = 2\n",
        "n2 = 4\n",
        "d2 = 0\n",
        "\n",
        "if n2 == 0:\n",
        "    answer = n1 * d2 / d1\n",
        "    print(f'n2 = {answer}')\n",
        "if d2 == 0:\n",
        "    answer = d1 * n2 / n1\n",
        "    print(f'd2 = {answer}')"
      ]
    },
    {
      "cell_type": "markdown",
      "source": [
        "# titulo\n",
        "\n"
      ],
      "metadata": {
        "id": "EJO65B3bM1wT"
      }
    },
    {
      "cell_type": "code",
      "source": [
        "# Resolvendo para X\n",
        "import sympy as sp\n",
        "x = sp.symbols('x')\n",
        "eq = x**2 - 2\n",
        "print(f'x = {(sp.solve(eq, x))}')"
      ],
      "metadata": {
        "colab": {
          "base_uri": "https://localhost:8080/"
        },
        "id": "VVW2CPJTsIGW",
        "outputId": "3d4f6161-6b47-44b2-aa54-ea2c684479d8"
      },
      "execution_count": 16,
      "outputs": [
        {
          "output_type": "stream",
          "name": "stdout",
          "text": [
            "x = []\n"
          ]
        }
      ]
    }
  ]
}