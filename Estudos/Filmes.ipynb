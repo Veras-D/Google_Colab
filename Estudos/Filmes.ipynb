{
  "nbformat": 4,
  "nbformat_minor": 0,
  "metadata": {
    "colab": {
      "provenance": [],
      "authorship_tag": "ABX9TyPMMNf4FqGk/6qHxODZpFho",
      "include_colab_link": true
    },
    "kernelspec": {
      "name": "python3",
      "display_name": "Python 3"
    },
    "language_info": {
      "name": "python"
    }
  },
  "cells": [
    {
      "cell_type": "markdown",
      "metadata": {
        "id": "view-in-github",
        "colab_type": "text"
      },
      "source": [
        "<a href=\"https://colab.research.google.com/github/Veras-D/Google_Colab/blob/main/Estudos/Filmes.ipynb\" target=\"_parent\"><img src=\"https://colab.research.google.com/assets/colab-badge.svg\" alt=\"Open In Colab\"/></a>"
      ]
    },
    {
      "cell_type": "code",
      "execution_count": null,
      "metadata": {
        "colab": {
          "base_uri": "https://localhost:8080/"
        },
        "id": "_ZX727DPksIS",
        "outputId": "d09cc666-58fc-49c4-8f20-a98e3dc68ede"
      },
      "outputs": [
        {
          "output_type": "stream",
          "name": "stdout",
          "text": [
            "   userId  movieId  rating  timestamp\n",
            "0       1        1     4.0  964982703\n",
            "1       1        3     4.0  964981247\n",
            "2       1        6     4.0  964982224\n",
            "3       1       47     5.0  964983815\n",
            "4       1       50     5.0  964982931\n",
            "\n",
            "\n",
            "\n",
            "   movieId                               title  \\\n",
            "0        1                    Toy Story (1995)   \n",
            "1        2                      Jumanji (1995)   \n",
            "2        3             Grumpier Old Men (1995)   \n",
            "3        4            Waiting to Exhale (1995)   \n",
            "4        5  Father of the Bride Part II (1995)   \n",
            "\n",
            "                                        genres  \n",
            "0  Adventure|Animation|Children|Comedy|Fantasy  \n",
            "1                   Adventure|Children|Fantasy  \n",
            "2                               Comedy|Romance  \n",
            "3                         Comedy|Drama|Romance  \n",
            "4                                       Comedy  \n",
            "\n",
            "\n",
            "\n",
            "3.501556983616962\n",
            "              userId        movieId         rating     timestamp\n",
            "count  100836.000000  100836.000000  100836.000000  1.008360e+05\n",
            "mean      326.127564   19435.295718       3.501557  1.205946e+09\n",
            "std       182.618491   35530.987199       1.042529  2.162610e+08\n",
            "min         1.000000       1.000000       0.500000  8.281246e+08\n",
            "25%       177.000000    1199.000000       3.000000  1.019124e+09\n",
            "50%       325.000000    2991.000000       3.500000  1.186087e+09\n",
            "75%       477.000000    8122.000000       4.000000  1.435994e+09\n",
            "max       610.000000  193609.000000       5.000000  1.537799e+09\n"
          ]
        }
      ],
      "source": [
        "import pandas as pd\n",
        "link_notas = 'https://raw.githubusercontent.com/alura-cursos/introducao-a-data-science/master/aula2.1/ratings.csv'\n",
        "link_movies = 'https://raw.githubusercontent.com/alura-cursos/introducao-a-data-science/master/aula4.2/movies.csv'\n",
        "df_notas = pd.read_csv(link_notas)\n",
        "df_movies = pd.read_csv(link_movies)\n",
        "print(df_notas.head())\n",
        "print('\\n\\n')\n",
        "print(df_movies.head())\n",
        "print('\\n\\n')\n",
        "mean_notas = df_notas['rating'].mean()\n",
        "descr = df_notas.describe()\n",
        "print(mean_notas)\n",
        "print(descr)"
      ]
    }
  ]
}